{
 "cells": [
  {
   "cell_type": "markdown",
   "metadata": {},
   "source": [
    "# <p style=\"text-align: center;\"> CSCE 633 Semester Project </p>\n",
    "### <p style=\"text-align: center;\"> Dylan Nguyen, 628002480 </p>"
   ]
  },
  {
   "cell_type": "markdown",
   "metadata": {},
   "source": [
    "# Part (a) - Data Preprocessing"
   ]
  },
  {
   "cell_type": "code",
   "execution_count": 244,
   "metadata": {},
   "outputs": [],
   "source": [
    "import pandas as pd\n",
    "import numpy as np\n",
    "from nltk.corpus import stopwords\n",
    "import re\n",
    "from sklearn.model_selection import train_test_split"
   ]
  },
  {
   "cell_type": "code",
   "execution_count": 262,
   "metadata": {},
   "outputs": [],
   "source": [
    "\"\"\"\n",
    "Function to:\n",
    "1. remove stop words\n",
    "2. create the sentiment labels\n",
    "3. Sample a subset with an even distribution of sentiments\n",
    "4. remove punctuation\n",
    "5. convert to lowercase\n",
    "\n",
    "Returns: dataframe containing preprocessed data\n",
    "\"\"\"\n",
    "def preprocess_and_sample(data_path, sample_size=None):\n",
    "    df = pd.read_csv(data_path)\n",
    "    stop_words = stopwords.words('english')\n",
    "\n",
    "    # negative: 0, positive: 1, neutral, 2\n",
    "    df['sentiment'] = df['stars'].apply(lambda x: 0 if x <= 2.0 else (1 if x > 3 else 2 ))\n",
    "    \n",
    "    df_sampled = df\n",
    "\n",
    "    if sample_size:\n",
    "        df_sampled, _ = train_test_split(df, test_size=1-sample_size, stratify=df['sentiment'], random_state=42)\n",
    "\n",
    "    # removing stop words\n",
    "    df_sampled['text'] = df_sampled['text'].apply(lambda x: ' '.join([word for word in x.split() if word not in (stop_words)]))\n",
    "\n",
    "    # removing punctuation and converting to lowercase\n",
    "    df_sampled['text'] = df_sampled['text'].apply(lambda x: re.sub(r'[^\\w\\s]', '', x))\n",
    "    df_sampled['text'] = df_sampled['text'].str.lower()\n",
    "\n",
    "    return df_sampled"
   ]
  },
  {
   "cell_type": "markdown",
   "metadata": {},
   "source": [
    "# Part (b) - Input Data Preparation"
   ]
  },
  {
   "cell_type": "code",
   "execution_count": 246,
   "metadata": {},
   "outputs": [],
   "source": [
    "from transformers import BertTokenizer\n",
    "import torch\n",
    "\n",
    "device = torch.device(\"cuda\" if torch.cuda.is_available() else \"cpu\")\n",
    "# device = torch.device(\"mps\")"
   ]
  },
  {
   "cell_type": "markdown",
   "metadata": {},
   "source": [
    "## Tokenizing and Producing Input IDs and Attention Mask Lists (due to padding with max length = 512)"
   ]
  },
  {
   "cell_type": "code",
   "execution_count": 247,
   "metadata": {},
   "outputs": [],
   "source": [
    "# WordPiece tokenization function using BertTokenizer for correctly formatted input into Bert model\n",
    "tokenizer = BertTokenizer.from_pretrained('bert-base-uncased')\n",
    "\n",
    "\"\"\"\n",
    "Tokenizes the input text and returns input IDs and attention mask\n",
    "uses the global tokenizer to return matrices of input IDs and corresponding attention mask\n",
    "\"\"\"\n",
    "def prepare_data(df):\n",
    "    # Tokenize and obtain input IDs and attention masks\n",
    "    tokenized_texts = tokenizer.batch_encode_plus(\n",
    "        df['text'].tolist(),\n",
    "        add_special_tokens=True,\n",
    "        max_length=192,\n",
    "        padding='max_length',\n",
    "        truncation=True,\n",
    "        return_attention_mask=True,\n",
    "        return_tensors='pt'\n",
    "    )\n",
    "\n",
    "    return tokenized_texts['input_ids'], tokenized_texts['attention_mask'], df['sentiment']"
   ]
  },
  {
   "cell_type": "markdown",
   "metadata": {},
   "source": [
    "# Part (c) - Transformer Implementation"
   ]
  },
  {
   "cell_type": "code",
   "execution_count": 248,
   "metadata": {},
   "outputs": [],
   "source": [
    "from transformers import BertModel\n",
    "import torch\n",
    "import torch.nn as nn\n",
    "from torch.utils.data import TensorDataset, DataLoader"
   ]
  },
  {
   "cell_type": "code",
   "execution_count": 249,
   "metadata": {},
   "outputs": [],
   "source": [
    "\"\"\"\n",
    "Transformer Model for Sentiment Analysis\n",
    "1. Bert is used to create contextual embeddings of shape (batch size, padding size, and hidden size (256 for bert mini)) given a vocabulary (input IDs) and attention mask\n",
    "2. Dilated CNN is used to extract local features of each review\n",
    "3. Pooling layer reduces the feature space while retaining essential feature information\n",
    "4. Bi-LSTM is helps with contextual information (obtains both past and future context) and handles long dependencies\n",
    "5. Dense layer outputs the logits of each class for every sample\n",
    "\"\"\"\n",
    "class SentimentTransformer(nn.Module):\n",
    "    def __init__(self):\n",
    "        super(SentimentTransformer, self).__init__()\n",
    "        # Bert for creating textual embeddings\n",
    "        self.bert = BertModel.from_pretrained('gaunernst/bert-mini-uncased')\n",
    "\n",
    "        # Dilated convolution layers for semantic feature extraction in the large receptive field\n",
    "        self.conv1 = nn.Conv2d(in_channels=1, out_channels=64, kernel_size=(3,3), dilation=1)\n",
    "        self.conv2 = nn.Conv2d(in_channels=1, out_channels=64, kernel_size=(3,3), dilation=2)\n",
    "        self.conv3 = nn.Conv2d(in_channels=1, out_channels=64, kernel_size=(3,3), dilation=3)\n",
    "\n",
    "        # Activation layer using ReLU to prevent gradient vanishing\n",
    "        self.relu = nn.ReLU()\n",
    "\n",
    "        # max pooling layer with 2x2 filter size\n",
    "        self.max_pool = nn.MaxPool2d(kernel_size=(2,2))\n",
    "\n",
    "        # Bi-LSTM layer with 128 units and 0.2% dropout rate\n",
    "        self.bi_lstm = nn.LSTM(input_size=12000, hidden_size=128, num_layers=2, batch_first=True, bidirectional=True, dropout=0.2)\n",
    "\n",
    "        # dense layer with 3 output neurons for predicting probabilities of classes belonging to sentiments\n",
    "        self.dense = nn.Linear(in_features=256, out_features=3)\n",
    "\n",
    "\n",
    "    def forward(self, input_ids, attention_mask):\n",
    "        batch_size = input_ids.shape[0]\n",
    "        # get contextual embeddings using the final output from the fully connected layer of BERT\n",
    "        bert_output = self.bert(input_ids, attention_mask)\n",
    "        embeddings = bert_output.last_hidden_state\n",
    "\n",
    "        # adding a single channel dimension for feeding into convolution layers\n",
    "        embeddings = embeddings.unsqueeze(dim=1)\n",
    "\n",
    "        # Adaptive pooling to a common size\n",
    "        target_size = (186, 250) \n",
    "        adaptive_pool = nn.AdaptiveAvgPool2d(target_size)\n",
    "\n",
    "        # extract semantic features using dilated convolution layers with ReLU activation and resize each feature map\n",
    "        feat_map1 = adaptive_pool(self.relu(self.conv1(embeddings)))\n",
    "        feat_map2 = adaptive_pool(self.relu(self.conv2(embeddings)))\n",
    "        feat_map3 = adaptive_pool(self.relu(self.conv3(embeddings)))\n",
    "\n",
    "        # concatenate all feature maps into a single map\n",
    "        combined_features = torch.cat((feat_map1, feat_map2, feat_map3), dim=1)\n",
    "        \n",
    "        # use max pooling to reduce the feature space\n",
    "        pooled_features = self.max_pool(combined_features)\n",
    "\n",
    "        # pooled features have shape: [batch_size, channels, height, width] \n",
    "        # reshape for LSTM by flattening width and channels into features, treat height as sequence length\n",
    "        pooled_features = pooled_features.view(batch_size, 186, -1) \n",
    "\n",
    "        # pass through Bi-LSTM layer\n",
    "        bi_lstm_output, _ = self.bi_lstm(pooled_features)\n",
    "\n",
    "        # flatten bi lstm output to pass into dense layer\n",
    "        bi_lstm_flattened = bi_lstm_output[:, -1, :]\n",
    "\n",
    "        # dense layer with 3 outputs for predicting classification probabilities\n",
    "        dense_output = self.dense(bi_lstm_flattened)\n",
    "       \n",
    "        \n",
    "        return dense_output"
   ]
  },
  {
   "cell_type": "markdown",
   "metadata": {},
   "source": [
    "# Part (d) - Model Training"
   ]
  },
  {
   "cell_type": "markdown",
   "metadata": {},
   "source": [
    "## Preprocessing the Data and Creating Data Loaders"
   ]
  },
  {
   "cell_type": "code",
   "execution_count": 250,
   "metadata": {},
   "outputs": [
    {
     "data": {
      "text/html": [
       "<div>\n",
       "<style scoped>\n",
       "    .dataframe tbody tr th:only-of-type {\n",
       "        vertical-align: middle;\n",
       "    }\n",
       "\n",
       "    .dataframe tbody tr th {\n",
       "        vertical-align: top;\n",
       "    }\n",
       "\n",
       "    .dataframe thead th {\n",
       "        text-align: right;\n",
       "    }\n",
       "</style>\n",
       "<table border=\"1\" class=\"dataframe\">\n",
       "  <thead>\n",
       "    <tr style=\"text-align: right;\">\n",
       "      <th></th>\n",
       "      <th>text</th>\n",
       "      <th>stars</th>\n",
       "      <th>sentiment</th>\n",
       "    </tr>\n",
       "  </thead>\n",
       "  <tbody>\n",
       "    <tr>\n",
       "      <th>90268</th>\n",
       "      <td>we saw celtic angels opening night clearwater ...</td>\n",
       "      <td>5.0</td>\n",
       "      <td>1</td>\n",
       "    </tr>\n",
       "    <tr>\n",
       "      <th>153492</th>\n",
       "      <td>the shadier place looks better donuts are that...</td>\n",
       "      <td>5.0</td>\n",
       "      <td>1</td>\n",
       "    </tr>\n",
       "    <tr>\n",
       "      <th>95123</th>\n",
       "      <td>the brisket sandwich excellent ill definitely ...</td>\n",
       "      <td>5.0</td>\n",
       "      <td>1</td>\n",
       "    </tr>\n",
       "    <tr>\n",
       "      <th>58834</th>\n",
       "      <td>for steak house burger chain every flight air ...</td>\n",
       "      <td>3.0</td>\n",
       "      <td>2</td>\n",
       "    </tr>\n",
       "    <tr>\n",
       "      <th>153249</th>\n",
       "      <td>ive coming months my favorite boba place my go...</td>\n",
       "      <td>5.0</td>\n",
       "      <td>1</td>\n",
       "    </tr>\n",
       "    <tr>\n",
       "      <th>...</th>\n",
       "      <td>...</td>\n",
       "      <td>...</td>\n",
       "      <td>...</td>\n",
       "    </tr>\n",
       "    <tr>\n",
       "      <th>121941</th>\n",
       "      <td>aweful customer service hour wait one letting ...</td>\n",
       "      <td>1.0</td>\n",
       "      <td>0</td>\n",
       "    </tr>\n",
       "    <tr>\n",
       "      <th>91801</th>\n",
       "      <td>in town short visit stumbled upon place great ...</td>\n",
       "      <td>5.0</td>\n",
       "      <td>1</td>\n",
       "    </tr>\n",
       "    <tr>\n",
       "      <th>65991</th>\n",
       "      <td>super excited try new place little bit letdown...</td>\n",
       "      <td>3.0</td>\n",
       "      <td>2</td>\n",
       "    </tr>\n",
       "    <tr>\n",
       "      <th>31948</th>\n",
       "      <td>this nice little uniform shop good selection p...</td>\n",
       "      <td>3.0</td>\n",
       "      <td>2</td>\n",
       "    </tr>\n",
       "    <tr>\n",
       "      <th>165711</th>\n",
       "      <td>this store absolutely disgusting i grew reno v...</td>\n",
       "      <td>1.0</td>\n",
       "      <td>0</td>\n",
       "    </tr>\n",
       "  </tbody>\n",
       "</table>\n",
       "<p>15728 rows × 3 columns</p>\n",
       "</div>"
      ],
      "text/plain": [
       "                                                     text  stars  sentiment\n",
       "90268   we saw celtic angels opening night clearwater ...    5.0          1\n",
       "153492  the shadier place looks better donuts are that...    5.0          1\n",
       "95123   the brisket sandwich excellent ill definitely ...    5.0          1\n",
       "58834   for steak house burger chain every flight air ...    3.0          2\n",
       "153249  ive coming months my favorite boba place my go...    5.0          1\n",
       "...                                                   ...    ...        ...\n",
       "121941  aweful customer service hour wait one letting ...    1.0          0\n",
       "91801   in town short visit stumbled upon place great ...    5.0          1\n",
       "65991   super excited try new place little bit letdown...    3.0          2\n",
       "31948   this nice little uniform shop good selection p...    3.0          2\n",
       "165711  this store absolutely disgusting i grew reno v...    1.0          0\n",
       "\n",
       "[15728 rows x 3 columns]"
      ]
     },
     "execution_count": 250,
     "metadata": {},
     "output_type": "execute_result"
    }
   ],
   "source": [
    "# Sampling 12% of the whole dataset which results in a subset of around 20000\n",
    "data_path = './yelp_review_train.csv'\n",
    "df = preprocess_and_sample(data_path, sample_size=0.09)\n",
    "df"
   ]
  },
  {
   "cell_type": "markdown",
   "metadata": {},
   "source": [
    "Mean Length: 71.5744532044761\n",
    "Median Length: 52.0\n",
    "Max Length: 712\n",
    "95th Percentile Length: 190.0\n",
    "99th Percentile Length: 330.0\n"
   ]
  },
  {
   "cell_type": "code",
   "execution_count": 251,
   "metadata": {},
   "outputs": [],
   "source": [
    "# splitting into train and validation sets: ensures sentiment distribution is even in both\n",
    "# validation set is 20% of the data\n",
    "train_df, val_df = train_test_split(df, test_size=3145, stratify=df['sentiment'], random_state=42)\n",
    "\n",
    "# Tokenizing the data and creating tensordatasets with the returned tensors\n",
    "train_tokenized = prepare_data(train_df)\n",
    "train_input_ids = train_tokenized[0].to(device)\n",
    "train_attention_masks = train_tokenized[1].to(device)\n",
    "train_sentiment = torch.tensor(train_tokenized[2].to_list()).to(device)\n",
    "\n",
    "val_tokenized = prepare_data(val_df)\n",
    "val_input_ids = val_tokenized[0].to(device)\n",
    "val_attention_masks = val_tokenized[1].to(device)\n",
    "val_sentiment = torch.tensor(val_tokenized[2].to_list()).to(device)\n",
    "\n",
    "train_dataset = TensorDataset(train_input_ids, train_attention_masks, train_sentiment)\n",
    "val_dataset = TensorDataset(val_input_ids, val_attention_masks, val_sentiment)\n",
    "\n",
    "# Creating the dataloaders each with batch size 200\n",
    "train_loader = DataLoader(train_dataset, batch_size=100, shuffle=True)\n",
    "val_loader = DataLoader(val_dataset, batch_size=150)\n",
    "\n",
    "del train_tokenized, train_input_ids, train_attention_masks, train_sentiment, train_dataset, val_tokenized, val_input_ids, val_attention_masks, val_sentiment, val_dataset"
   ]
  },
  {
   "cell_type": "markdown",
   "metadata": {},
   "source": [
    "## Training Loop"
   ]
  },
  {
   "cell_type": "code",
   "execution_count": 252,
   "metadata": {},
   "outputs": [],
   "source": [
    "import torch.nn.functional as F\n",
    "import matplotlib.pyplot as plt\n",
    "from torch.optim.lr_scheduler import StepLR"
   ]
  },
  {
   "cell_type": "code",
   "execution_count": 253,
   "metadata": {},
   "outputs": [
    {
     "name": "stderr",
     "output_type": "stream",
     "text": [
      "Some weights of the model checkpoint at gaunernst/bert-mini-uncased were not used when initializing BertModel: ['cls.predictions.transform.dense.bias', 'cls.predictions.decoder.weight', 'cls.predictions.transform.LayerNorm.bias', 'cls.predictions.decoder.bias', 'cls.seq_relationship.weight', 'cls.predictions.transform.LayerNorm.weight', 'cls.predictions.bias', 'cls.seq_relationship.bias', 'cls.predictions.transform.dense.weight']\n",
      "- This IS expected if you are initializing BertModel from the checkpoint of a model trained on another task or with another architecture (e.g. initializing a BertForSequenceClassification model from a BertForPreTraining model).\n",
      "- This IS NOT expected if you are initializing BertModel from the checkpoint of a model that you expect to be exactly identical (initializing a BertForSequenceClassification model from a BertForSequenceClassification model).\n"
     ]
    },
    {
     "name": "stdout",
     "output_type": "stream",
     "text": [
      "Epoch [0], batch [0]: loss=1.1084809303283691\n",
      "Epoch [0], batch [20]: loss=0.9216156005859375\n",
      "Epoch [0], batch [40]: loss=0.8375244140625\n",
      "Epoch [0], batch [60]: loss=0.7822162508964539\n",
      "Epoch [0], batch [80]: loss=0.8064051866531372\n",
      "Epoch [0], batch [100]: loss=0.8306277394294739\n",
      "Epoch [0], batch [120]: loss=0.8187606930732727\n",
      "Final results for epoch 0:\n",
      "average loss: 0.8859952688217163, train accuracy: 66.23221807200191, validation accuracy: 67.05882352941177\n",
      "Epoch [1], batch [0]: loss=0.7505002617835999\n",
      "Epoch [1], batch [20]: loss=0.8537611365318298\n",
      "Epoch [1], batch [40]: loss=0.8557521104812622\n",
      "Epoch [1], batch [60]: loss=0.9411726593971252\n",
      "Epoch [1], batch [80]: loss=0.8009128570556641\n",
      "Epoch [1], batch [100]: loss=0.8803435564041138\n",
      "Epoch [1], batch [120]: loss=0.8826737999916077\n",
      "Final results for epoch 1:\n",
      "average loss: 0.8220421671867371, train accuracy: 67.05078280219344, validation accuracy: 67.05882352941177\n",
      "Epoch [2], batch [0]: loss=0.8121992349624634\n",
      "Epoch [2], batch [20]: loss=0.8008071184158325\n",
      "Epoch [2], batch [40]: loss=0.6723678708076477\n",
      "Epoch [2], batch [60]: loss=0.8916323184967041\n",
      "Epoch [2], batch [80]: loss=0.7859987616539001\n",
      "Epoch [2], batch [100]: loss=0.8422367572784424\n",
      "Epoch [2], batch [120]: loss=0.7678103446960449\n",
      "Final results for epoch 2:\n",
      "average loss: 0.784285306930542, train accuracy: 67.06667726297385, validation accuracy: 67.05882352941177\n",
      "Epoch [3], batch [0]: loss=0.6114208102226257\n",
      "Epoch [3], batch [20]: loss=0.6214751601219177\n",
      "Epoch [3], batch [40]: loss=0.6742556691169739\n",
      "Epoch [3], batch [60]: loss=0.5699411630630493\n",
      "Epoch [3], batch [80]: loss=0.5623480677604675\n",
      "Epoch [3], batch [100]: loss=0.6422200202941895\n",
      "Epoch [3], batch [120]: loss=0.623721718788147\n",
      "Final results for epoch 3:\n",
      "average loss: 0.69968181848526, train accuracy: 72.34363824207264, validation accuracy: 80.15898251192368\n",
      "Epoch [4], batch [0]: loss=0.6542235612869263\n",
      "Epoch [4], batch [20]: loss=0.5806947350502014\n",
      "Epoch [4], batch [40]: loss=0.7476056814193726\n",
      "Epoch [4], batch [60]: loss=0.5944318771362305\n",
      "Epoch [4], batch [80]: loss=0.564664900302887\n",
      "Epoch [4], batch [100]: loss=0.6730889081954956\n",
      "Epoch [4], batch [120]: loss=0.49840760231018066\n",
      "Final results for epoch 4:\n",
      "average loss: 0.6020187139511108, train accuracy: 79.98887387745371, validation accuracy: 80.60413354531002\n",
      "Epoch [5], batch [0]: loss=0.5635218024253845\n",
      "Epoch [5], batch [20]: loss=0.5699103474617004\n",
      "Epoch [5], batch [40]: loss=0.5932024121284485\n",
      "Epoch [5], batch [60]: loss=0.6457273364067078\n",
      "Epoch [5], batch [80]: loss=0.5300331711769104\n",
      "Epoch [5], batch [100]: loss=0.6227332949638367\n",
      "Epoch [5], batch [120]: loss=0.6852349042892456\n",
      "Final results for epoch 5:\n",
      "average loss: 0.5883263945579529, train accuracy: 80.39418262735437, validation accuracy: 81.04928457869634\n"
     ]
    }
   ],
   "source": [
    "model = SentimentTransformer().to(device)\n",
    "\n",
    "loss_function = torch.nn.CrossEntropyLoss()\n",
    "optimizer = torch.optim.SGD(model.parameters(), lr=0.01)\n",
    "# learning rate scheduler to decay the learning rate\n",
    "scheduler = StepLR(optimizer, step_size=4, gamma=0.1) \n",
    "\n",
    "num_epochs = 6\n",
    "best_val_accuracy = -1\n",
    "training_accuracies = []\n",
    "validation_accuracies = []\n",
    "\n",
    "for epoch in range(num_epochs):\n",
    "    model.train()\n",
    "    correct = 0\n",
    "    total = 0\n",
    "    losses = []\n",
    "    for i, (input_ids_batch, attention_mask_batch, labels) in enumerate(train_loader):\n",
    "        # forward pass in the model\n",
    "        class_logits = model(input_ids_batch, attention_mask_batch)\n",
    "        loss = loss_function(class_logits, labels)\n",
    "        losses.append(loss)\n",
    "\n",
    "        # backpropagation and optimization\n",
    "        optimizer.zero_grad()\n",
    "        loss.backward()\n",
    "        optimizer.step()\n",
    "\n",
    "        # compute train accuracy\n",
    "        predicted = torch.argmax(class_logits.data, dim=1)\n",
    "        total += labels.size(0)\n",
    "        correct += (predicted == labels).sum().item()\n",
    "\n",
    "        if i % 20 == 0:\n",
    "            print(f\"Epoch [{epoch}], batch [{i}]: loss={loss}\")\n",
    "    \n",
    "    train_accuracy = 100 * correct / total\n",
    "    training_accuracies.append(train_accuracy)\n",
    "    avg_loss = torch.mean(torch.stack(losses))\n",
    "\n",
    "    # validation\n",
    "    model.eval()\n",
    "    correct = 0\n",
    "    total = 0\n",
    "    with torch.no_grad():\n",
    "        for input_ids_batch, attention_mask_batch, labels in val_loader:\n",
    "            # forward pass in the model\n",
    "            class_logits = model(input_ids_batch, attention_mask_batch)\n",
    "            predicted = torch.argmax(class_logits.data, dim=1)\n",
    "            total += labels.size(0)\n",
    "            correct += (predicted == labels).sum().item() \n",
    "    \n",
    "    val_accuracy = 100 * correct / total\n",
    "    validation_accuracies.append(val_accuracy)\n",
    "\n",
    "    # Save the best model\n",
    "    if val_accuracy > best_val_accuracy:\n",
    "        best_val_accuracy = val_accuracy\n",
    "        torch.save(model.state_dict(), 'best_model.pth')\n",
    "\n",
    "    # update learning rate\n",
    "    scheduler.step()\n",
    "\n",
    "    print(f\"Final results for epoch {epoch}:\")\n",
    "    print(f\"average loss: {avg_loss}, train accuracy: {train_accuracy}, validation accuracy: {val_accuracy}\")\n"
   ]
  },
  {
   "cell_type": "markdown",
   "metadata": {},
   "source": [
    "## Plot Training Data"
   ]
  },
  {
   "cell_type": "code",
   "execution_count": 257,
   "metadata": {},
   "outputs": [
    {
     "name": "stdout",
     "output_type": "stream",
     "text": [
      "[66.23221807200191, 67.05078280219344, 67.06667726297385, 72.34363824207264, 79.98887387745371, 80.39418262735437]\n",
      "[67.05882352941177, 67.05882352941177, 67.05882352941177, 80.15898251192368, 80.60413354531002, 81.04928457869634]\n"
     ]
    }
   ],
   "source": [
    "temp_train_accuracies = training_accuracies\n",
    "temp_val_accuracies = validation_accuracies\n",
    "print(temp_train_accuracies)\n",
    "print(temp_val_accuracies)"
   ]
  },
  {
   "cell_type": "code",
   "execution_count": 254,
   "metadata": {},
   "outputs": [
    {
     "data": {
      "image/png": "[encoded data removed]",
      "text/plain": [
       "<Figure size 640x480 with 1 Axes>"
      ]
     },
     "metadata": {},
     "output_type": "display_data"
    }
   ],
   "source": [
    "plt.plot(range(num_epochs), training_accuracies, label='Training Accuracy')\n",
    "plt.plot(range(num_epochs), validation_accuracies, label='Validation Accuracy')\n",
    "plt.xlabel('Epochs')\n",
    "plt.ylabel('Accuracy')\n",
    "plt.title('Training Curve')\n",
    "plt.legend()\n",
    "plt.show()"
   ]
  },
  {
   "cell_type": "code",
   "execution_count": 281,
   "metadata": {},
   "outputs": [
    {
     "name": "stderr",
     "output_type": "stream",
     "text": [
      "No artists with labels found to put in legend.  Note that artists whose label start with an underscore are ignored when legend() is called with no argument.\n"
     ]
    },
    {
     "data": {
      "image/png": "[encoded data removed]",
      "text/plain": [
       "<Figure size 640x480 with 1 Axes>"
      ]
     },
     "metadata": {},
     "output_type": "display_data"
    }
   ],
   "source": [
    "# loss vs epochs\n",
    "plt.plot(range(6), [0.8859952688217163, 0.8220421671867371, 0.784285306930542, 0.69968181848526, 0.6020187139511108, 0.5883263945579529],)\n",
    "plt.xlabel('Epochs')\n",
    "plt.ylabel('Average Loss')\n",
    "plt.title('Loss Curve')\n",
    "plt.legend()\n",
    "plt.show()"
   ]
  },
  {
   "cell_type": "markdown",
   "metadata": {},
   "source": [
    "## Further Tuning of Model"
   ]
  },
  {
   "cell_type": "code",
   "execution_count": 278,
   "metadata": {},
   "outputs": [
    {
     "name": "stdout",
     "output_type": "stream",
     "text": [
      "Epoch [0], batch [0]: loss=0.5577850341796875\n",
      "Epoch [0], batch [20]: loss=0.62264084815979\n",
      "Epoch [0], batch [40]: loss=0.4268188774585724\n",
      "Epoch [0], batch [60]: loss=0.5700986981391907\n",
      "Epoch [0], batch [80]: loss=0.5683433413505554\n",
      "Epoch [0], batch [100]: loss=0.5170037150382996\n",
      "Epoch [0], batch [120]: loss=0.60487961769104\n",
      "Final results for epoch 0:\n",
      "average loss: 0.5731772184371948, train accuracy: 81.07764444091234, validation accuracy: 81.46263910969793\n",
      "Epoch [1], batch [0]: loss=0.6055797338485718\n",
      "Epoch [1], batch [20]: loss=0.624616801738739\n",
      "Epoch [1], batch [40]: loss=0.519636332988739\n",
      "Epoch [1], batch [60]: loss=0.6026710867881775\n",
      "Epoch [1], batch [80]: loss=0.5729271173477173\n",
      "Epoch [1], batch [100]: loss=0.5332537889480591\n",
      "Epoch [1], batch [120]: loss=0.5847166180610657\n",
      "Final results for epoch 1:\n",
      "average loss: 0.5617592334747314, train accuracy: 81.26043073988716, validation accuracy: 81.39904610492846\n",
      "Epoch [2], batch [0]: loss=0.5705747008323669\n",
      "Epoch [2], batch [20]: loss=0.5205936431884766\n",
      "Epoch [2], batch [40]: loss=0.5008004903793335\n"
     ]
    },
    {
     "ename": "KeyboardInterrupt",
     "evalue": "",
     "output_type": "error",
     "traceback": [
      "\u001b[0;31m---------------------------------------------------------------------------\u001b[0m",
      "\u001b[0;31mKeyboardInterrupt\u001b[0m                         Traceback (most recent call last)",
      "\u001b[1;32m/Users/dylannguyen/Documents/Documents/grad_courses/CSCE633/project/transformer_temp copy.ipynb Cell 24\u001b[0m line \u001b[0;36m<cell line: 0>\u001b[0;34m()\u001b[0m\n\u001b[1;32m     <a href='vscode-notebook-cell:/Users/dylannguyen/Documents/Documents/grad_courses/CSCE633/project/transformer_temp%20copy.ipynb#Y110sZmlsZQ%3D%3D?line=22'>23</a>\u001b[0m losses \u001b[39m=\u001b[39m []\n\u001b[1;32m     <a href='vscode-notebook-cell:/Users/dylannguyen/Documents/Documents/grad_courses/CSCE633/project/transformer_temp%20copy.ipynb#Y110sZmlsZQ%3D%3D?line=23'>24</a>\u001b[0m \u001b[39mfor\u001b[39;00m i, (input_ids_batch, attention_mask_batch, labels) \u001b[39min\u001b[39;00m \u001b[39menumerate\u001b[39m(train_loader):\n\u001b[1;32m     <a href='vscode-notebook-cell:/Users/dylannguyen/Documents/Documents/grad_courses/CSCE633/project/transformer_temp%20copy.ipynb#Y110sZmlsZQ%3D%3D?line=24'>25</a>\u001b[0m     \u001b[39m# forward pass in the model\u001b[39;00m\n\u001b[0;32m---> <a href='vscode-notebook-cell:/Users/dylannguyen/Documents/Documents/grad_courses/CSCE633/project/transformer_temp%20copy.ipynb#Y110sZmlsZQ%3D%3D?line=25'>26</a>\u001b[0m     class_logits \u001b[39m=\u001b[39m model(input_ids_batch, attention_mask_batch)\n\u001b[1;32m     <a href='vscode-notebook-cell:/Users/dylannguyen/Documents/Documents/grad_courses/CSCE633/project/transformer_temp%20copy.ipynb#Y110sZmlsZQ%3D%3D?line=26'>27</a>\u001b[0m     loss \u001b[39m=\u001b[39m loss_function(class_logits, labels)\n\u001b[1;32m     <a href='vscode-notebook-cell:/Users/dylannguyen/Documents/Documents/grad_courses/CSCE633/project/transformer_temp%20copy.ipynb#Y110sZmlsZQ%3D%3D?line=27'>28</a>\u001b[0m     losses\u001b[39m.\u001b[39mappend(loss)\n",
      "File \u001b[0;32m~/anaconda3/lib/python3.11/site-packages/torch/nn/modules/module.py:1518\u001b[0m, in \u001b[0;36mModule._wrapped_call_impl\u001b[0;34m(self, *args, **kwargs)\u001b[0m\n\u001b[1;32m   1516\u001b[0m     \u001b[39mreturn\u001b[39;00m \u001b[39mself\u001b[39m\u001b[39m.\u001b[39m_compiled_call_impl(\u001b[39m*\u001b[39margs, \u001b[39m*\u001b[39m\u001b[39m*\u001b[39mkwargs)  \u001b[39m# type: ignore[misc]\u001b[39;00m\n\u001b[1;32m   1517\u001b[0m \u001b[39melse\u001b[39;00m:\n\u001b[0;32m-> 1518\u001b[0m     \u001b[39mreturn\u001b[39;00m \u001b[39mself\u001b[39;49m\u001b[39m.\u001b[39;49m_call_impl(\u001b[39m*\u001b[39;49margs, \u001b[39m*\u001b[39;49m\u001b[39m*\u001b[39;49mkwargs)\n",
      "File \u001b[0;32m~/anaconda3/lib/python3.11/site-packages/torch/nn/modules/module.py:1527\u001b[0m, in \u001b[0;36mModule._call_impl\u001b[0;34m(self, *args, **kwargs)\u001b[0m\n\u001b[1;32m   1522\u001b[0m \u001b[39m# If we don't have any hooks, we want to skip the rest of the logic in\u001b[39;00m\n\u001b[1;32m   1523\u001b[0m \u001b[39m# this function, and just call forward.\u001b[39;00m\n\u001b[1;32m   1524\u001b[0m \u001b[39mif\u001b[39;00m \u001b[39mnot\u001b[39;00m (\u001b[39mself\u001b[39m\u001b[39m.\u001b[39m_backward_hooks \u001b[39mor\u001b[39;00m \u001b[39mself\u001b[39m\u001b[39m.\u001b[39m_backward_pre_hooks \u001b[39mor\u001b[39;00m \u001b[39mself\u001b[39m\u001b[39m.\u001b[39m_forward_hooks \u001b[39mor\u001b[39;00m \u001b[39mself\u001b[39m\u001b[39m.\u001b[39m_forward_pre_hooks\n\u001b[1;32m   1525\u001b[0m         \u001b[39mor\u001b[39;00m _global_backward_pre_hooks \u001b[39mor\u001b[39;00m _global_backward_hooks\n\u001b[1;32m   1526\u001b[0m         \u001b[39mor\u001b[39;00m _global_forward_hooks \u001b[39mor\u001b[39;00m _global_forward_pre_hooks):\n\u001b[0;32m-> 1527\u001b[0m     \u001b[39mreturn\u001b[39;00m forward_call(\u001b[39m*\u001b[39;49margs, \u001b[39m*\u001b[39;49m\u001b[39m*\u001b[39;49mkwargs)\n\u001b[1;32m   1529\u001b[0m \u001b[39mtry\u001b[39;00m:\n\u001b[1;32m   1530\u001b[0m     result \u001b[39m=\u001b[39m \u001b[39mNone\u001b[39;00m\n",
      "\u001b[1;32m/Users/dylannguyen/Documents/Documents/grad_courses/CSCE633/project/transformer_temp copy.ipynb Cell 24\u001b[0m line \u001b[0;36mSentimentTransformer.forward\u001b[0;34m(self, input_ids, attention_mask)\u001b[0m\n\u001b[1;32m     <a href='vscode-notebook-cell:/Users/dylannguyen/Documents/Documents/grad_courses/CSCE633/project/transformer_temp%20copy.ipynb#Y110sZmlsZQ%3D%3D?line=45'>46</a>\u001b[0m feat_map1 \u001b[39m=\u001b[39m adaptive_pool(\u001b[39mself\u001b[39m\u001b[39m.\u001b[39mrelu(\u001b[39mself\u001b[39m\u001b[39m.\u001b[39mconv1(embeddings)))\n\u001b[1;32m     <a href='vscode-notebook-cell:/Users/dylannguyen/Documents/Documents/grad_courses/CSCE633/project/transformer_temp%20copy.ipynb#Y110sZmlsZQ%3D%3D?line=46'>47</a>\u001b[0m feat_map2 \u001b[39m=\u001b[39m adaptive_pool(\u001b[39mself\u001b[39m\u001b[39m.\u001b[39mrelu(\u001b[39mself\u001b[39m\u001b[39m.\u001b[39mconv2(embeddings)))\n\u001b[0;32m---> <a href='vscode-notebook-cell:/Users/dylannguyen/Documents/Documents/grad_courses/CSCE633/project/transformer_temp%20copy.ipynb#Y110sZmlsZQ%3D%3D?line=47'>48</a>\u001b[0m feat_map3 \u001b[39m=\u001b[39m adaptive_pool(\u001b[39mself\u001b[39;49m\u001b[39m.\u001b[39;49mrelu(\u001b[39mself\u001b[39;49m\u001b[39m.\u001b[39;49mconv3(embeddings)))\n\u001b[1;32m     <a href='vscode-notebook-cell:/Users/dylannguyen/Documents/Documents/grad_courses/CSCE633/project/transformer_temp%20copy.ipynb#Y110sZmlsZQ%3D%3D?line=49'>50</a>\u001b[0m \u001b[39m# print(\"feat1\",feat_map1.shape)\u001b[39;00m\n\u001b[1;32m     <a href='vscode-notebook-cell:/Users/dylannguyen/Documents/Documents/grad_courses/CSCE633/project/transformer_temp%20copy.ipynb#Y110sZmlsZQ%3D%3D?line=50'>51</a>\u001b[0m \u001b[39m# print(\"feat2\", feat_map2.shape)\u001b[39;00m\n\u001b[1;32m     <a href='vscode-notebook-cell:/Users/dylannguyen/Documents/Documents/grad_courses/CSCE633/project/transformer_temp%20copy.ipynb#Y110sZmlsZQ%3D%3D?line=51'>52</a>\u001b[0m \u001b[39m# print(\"feat3\", feat_map3.shape)\u001b[39;00m\n\u001b[1;32m     <a href='vscode-notebook-cell:/Users/dylannguyen/Documents/Documents/grad_courses/CSCE633/project/transformer_temp%20copy.ipynb#Y110sZmlsZQ%3D%3D?line=52'>53</a>\u001b[0m \n\u001b[1;32m     <a href='vscode-notebook-cell:/Users/dylannguyen/Documents/Documents/grad_courses/CSCE633/project/transformer_temp%20copy.ipynb#Y110sZmlsZQ%3D%3D?line=53'>54</a>\u001b[0m \u001b[39m# concatenate all feature maps into a single map\u001b[39;00m\n\u001b[1;32m     <a href='vscode-notebook-cell:/Users/dylannguyen/Documents/Documents/grad_courses/CSCE633/project/transformer_temp%20copy.ipynb#Y110sZmlsZQ%3D%3D?line=54'>55</a>\u001b[0m combined_features \u001b[39m=\u001b[39m torch\u001b[39m.\u001b[39mcat((feat_map1, feat_map2, feat_map3), dim\u001b[39m=\u001b[39m\u001b[39m1\u001b[39m)\n",
      "File \u001b[0;32m~/anaconda3/lib/python3.11/site-packages/torch/nn/modules/module.py:1518\u001b[0m, in \u001b[0;36mModule._wrapped_call_impl\u001b[0;34m(self, *args, **kwargs)\u001b[0m\n\u001b[1;32m   1516\u001b[0m     \u001b[39mreturn\u001b[39;00m \u001b[39mself\u001b[39m\u001b[39m.\u001b[39m_compiled_call_impl(\u001b[39m*\u001b[39margs, \u001b[39m*\u001b[39m\u001b[39m*\u001b[39mkwargs)  \u001b[39m# type: ignore[misc]\u001b[39;00m\n\u001b[1;32m   1517\u001b[0m \u001b[39melse\u001b[39;00m:\n\u001b[0;32m-> 1518\u001b[0m     \u001b[39mreturn\u001b[39;00m \u001b[39mself\u001b[39;49m\u001b[39m.\u001b[39;49m_call_impl(\u001b[39m*\u001b[39;49margs, \u001b[39m*\u001b[39;49m\u001b[39m*\u001b[39;49mkwargs)\n",
      "File \u001b[0;32m~/anaconda3/lib/python3.11/site-packages/torch/nn/modules/module.py:1527\u001b[0m, in \u001b[0;36mModule._call_impl\u001b[0;34m(self, *args, **kwargs)\u001b[0m\n\u001b[1;32m   1522\u001b[0m \u001b[39m# If we don't have any hooks, we want to skip the rest of the logic in\u001b[39;00m\n\u001b[1;32m   1523\u001b[0m \u001b[39m# this function, and just call forward.\u001b[39;00m\n\u001b[1;32m   1524\u001b[0m \u001b[39mif\u001b[39;00m \u001b[39mnot\u001b[39;00m (\u001b[39mself\u001b[39m\u001b[39m.\u001b[39m_backward_hooks \u001b[39mor\u001b[39;00m \u001b[39mself\u001b[39m\u001b[39m.\u001b[39m_backward_pre_hooks \u001b[39mor\u001b[39;00m \u001b[39mself\u001b[39m\u001b[39m.\u001b[39m_forward_hooks \u001b[39mor\u001b[39;00m \u001b[39mself\u001b[39m\u001b[39m.\u001b[39m_forward_pre_hooks\n\u001b[1;32m   1525\u001b[0m         \u001b[39mor\u001b[39;00m _global_backward_pre_hooks \u001b[39mor\u001b[39;00m _global_backward_hooks\n\u001b[1;32m   1526\u001b[0m         \u001b[39mor\u001b[39;00m _global_forward_hooks \u001b[39mor\u001b[39;00m _global_forward_pre_hooks):\n\u001b[0;32m-> 1527\u001b[0m     \u001b[39mreturn\u001b[39;00m forward_call(\u001b[39m*\u001b[39;49margs, \u001b[39m*\u001b[39;49m\u001b[39m*\u001b[39;49mkwargs)\n\u001b[1;32m   1529\u001b[0m \u001b[39mtry\u001b[39;00m:\n\u001b[1;32m   1530\u001b[0m     result \u001b[39m=\u001b[39m \u001b[39mNone\u001b[39;00m\n",
      "File \u001b[0;32m~/anaconda3/lib/python3.11/site-packages/torch/nn/modules/activation.py:101\u001b[0m, in \u001b[0;36mReLU.forward\u001b[0;34m(self, input)\u001b[0m\n\u001b[1;32m    100\u001b[0m \u001b[39mdef\u001b[39;00m \u001b[39mforward\u001b[39m(\u001b[39mself\u001b[39m, \u001b[39minput\u001b[39m: Tensor) \u001b[39m-\u001b[39m\u001b[39m>\u001b[39m Tensor:\n\u001b[0;32m--> 101\u001b[0m     \u001b[39mreturn\u001b[39;00m F\u001b[39m.\u001b[39;49mrelu(\u001b[39minput\u001b[39;49m, inplace\u001b[39m=\u001b[39;49m\u001b[39mself\u001b[39;49m\u001b[39m.\u001b[39;49minplace)\n",
      "File \u001b[0;32m~/anaconda3/lib/python3.11/site-packages/torch/nn/functional.py:1471\u001b[0m, in \u001b[0;36mrelu\u001b[0;34m(input, inplace)\u001b[0m\n\u001b[1;32m   1469\u001b[0m     result \u001b[39m=\u001b[39m torch\u001b[39m.\u001b[39mrelu_(\u001b[39minput\u001b[39m)\n\u001b[1;32m   1470\u001b[0m \u001b[39melse\u001b[39;00m:\n\u001b[0;32m-> 1471\u001b[0m     result \u001b[39m=\u001b[39m torch\u001b[39m.\u001b[39;49mrelu(\u001b[39minput\u001b[39;49m)\n\u001b[1;32m   1472\u001b[0m \u001b[39mreturn\u001b[39;00m result\n",
      "\u001b[0;31mKeyboardInterrupt\u001b[0m: "
     ]
    }
   ],
   "source": [
    "# Load the best saved model\n",
    "best_model_path = 'best_model.pth' \n",
    "model.load_state_dict(torch.load(best_model_path))\n",
    "\n",
    "optimizer = torch.optim.SGD(model.parameters(), lr=0.001)\n",
    "# learning rate scheduler to decay the learning rate\n",
    "scheduler = StepLR(optimizer, step_size=2, gamma=0.1) \n",
    "\n",
    "# Initialize the early stopping patience and the counter\n",
    "patience = 2  # Number of epochs to wait after last time validation loss improved\n",
    "patience_counter = 0  # Counter for how many epochs have gone by since last improvement\n",
    "\n",
    "num_epochs = 4\n",
    "\n",
    "best_val_accuracy = -float('inf')\n",
    "training_accuracies = []\n",
    "validation_accuracies = []\n",
    "\n",
    "for epoch in range(num_epochs):\n",
    "    model.train()\n",
    "    correct = 0\n",
    "    total = 0\n",
    "    losses = []\n",
    "    for i, (input_ids_batch, attention_mask_batch, labels) in enumerate(train_loader):\n",
    "        # forward pass in the model\n",
    "        class_logits = model(input_ids_batch, attention_mask_batch)\n",
    "        loss = loss_function(class_logits, labels)\n",
    "        losses.append(loss)\n",
    "\n",
    "        # backpropagation and optimization\n",
    "        optimizer.zero_grad()\n",
    "        loss.backward()\n",
    "        optimizer.step()\n",
    "\n",
    "        # compute train accuracy\n",
    "        predicted = torch.argmax(class_logits.data, dim=1)\n",
    "        total += labels.size(0)\n",
    "        correct += (predicted == labels).sum().item()\n",
    "\n",
    "        if i % 20 == 0:\n",
    "            print(f\"Epoch [{epoch}], batch [{i}]: loss={loss}\")\n",
    "    \n",
    "    train_accuracy = 100 * correct / total\n",
    "    training_accuracies.append(train_accuracy)\n",
    "    avg_loss = torch.mean(torch.stack(losses))\n",
    "\n",
    "    # validation\n",
    "    model.eval()\n",
    "    correct = 0\n",
    "    total = 0\n",
    "    val_losses = []\n",
    "    with torch.no_grad():\n",
    "        for input_ids_batch, attention_mask_batch, labels in val_loader:\n",
    "            # forward pass in the model\n",
    "            class_logits = model(input_ids_batch, attention_mask_batch)\n",
    "            predicted = torch.argmax(class_logits.data, dim=1)\n",
    "            total += labels.size(0)\n",
    "            correct += (predicted == labels).sum().item() \n",
    "    \n",
    "    val_accuracy = 100 * correct / total\n",
    "    validation_accuracies.append(val_accuracy)\n",
    "\n",
    "    # Calculate average validation loss\n",
    "    avg_val_loss = torch.mean(torch.tensor(val_losses))\n",
    "\n",
    "    # Check for early stopping using accuracy\n",
    "    if val_accuracy > best_val_accuracy:\n",
    "        best_val_accuracy = val_accuracy\n",
    "        patience_counter = 0  # Reset the patience counter\n",
    "        # Save the new best model based on accuracy\n",
    "        torch.save(model.state_dict(), 'best_model_updated.pth')\n",
    "    else:\n",
    "        patience_counter += 1  # Increment the patience counter\n",
    "\n",
    "    if patience_counter >= patience:\n",
    "        print(f\"Stopping early at epoch {epoch} due to no improvement in validation accuracy.\")\n",
    "        break\n",
    "\n",
    "    # update learning rate\n",
    "    scheduler.step()\n",
    "\n",
    "    print(f\"Final results for epoch {epoch}:\")\n",
    "    print(f\"average loss: {avg_loss}, train accuracy: {train_accuracy}, validation accuracy: {val_accuracy}\")"
   ]
  },
  {
   "cell_type": "markdown",
   "metadata": {},
   "source": [
    "# Part(e) - Result Analysis"
   ]
  },
  {
   "cell_type": "markdown",
   "metadata": {},
   "source": [
    "## Preprocessing Similar to the Train Set"
   ]
  },
  {
   "cell_type": "code",
   "execution_count": 265,
   "metadata": {},
   "outputs": [],
   "source": [
    "test_data_path = './yelp_review_test.csv'\n",
    "df_test = preprocess_and_sample(test_data_path)"
   ]
  },
  {
   "cell_type": "code",
   "execution_count": 268,
   "metadata": {},
   "outputs": [],
   "source": [
    "# tokenization\n",
    "test_tokenized = prepare_data(df_test)\n",
    "test_input_ids = test_tokenized[0].to(device)\n",
    "test_attention_mask = test_tokenized[1].to(device)\n",
    "test_sentiments = torch.tensor(test_tokenized[2].to_list())\n",
    "\n",
    "test_dataset = TensorDataset(test_input_ids, test_attention_mask, test_sentiments)\n",
    "test_loader = DataLoader(test_dataset, batch_size=100)"
   ]
  },
  {
   "cell_type": "markdown",
   "metadata": {},
   "source": [
    "## Testing Loop"
   ]
  },
  {
   "cell_type": "code",
   "execution_count": 270,
   "metadata": {},
   "outputs": [],
   "source": [
    "from sklearn.metrics import precision_score, recall_score, f1_score, roc_auc_score, roc_curve\n",
    "from sklearn.preprocessing import label_binarize\n",
    "from sklearn.metrics import auc"
   ]
  },
  {
   "cell_type": "code",
   "execution_count": 273,
   "metadata": {},
   "outputs": [
    {
     "name": "stderr",
     "output_type": "stream",
     "text": [
      "Some weights of the model checkpoint at gaunernst/bert-mini-uncased were not used when initializing BertModel: ['cls.predictions.transform.dense.bias', 'cls.predictions.decoder.weight', 'cls.predictions.transform.LayerNorm.bias', 'cls.predictions.decoder.bias', 'cls.seq_relationship.weight', 'cls.predictions.transform.LayerNorm.weight', 'cls.predictions.bias', 'cls.seq_relationship.bias', 'cls.predictions.transform.dense.weight']\n",
      "- This IS expected if you are initializing BertModel from the checkpoint of a model trained on another task or with another architecture (e.g. initializing a BertForSequenceClassification model from a BertForPreTraining model).\n",
      "- This IS NOT expected if you are initializing BertModel from the checkpoint of a model that you expect to be exactly identical (initializing a BertForSequenceClassification model from a BertForSequenceClassification model).\n"
     ]
    },
    {
     "name": "stdout",
     "output_type": "stream",
     "text": [
      "Batch [0], current accuracy = 78.0\n",
      "Batch [20], current accuracy = 80.71428571428571\n",
      "Batch [40], current accuracy = 81.21951219512195\n",
      "Batch [60], current accuracy = 81.04918032786885\n",
      "Batch [80], current accuracy = 80.87654320987654\n",
      "Batch [100], current accuracy = 80.67326732673267\n",
      "Batch [120], current accuracy = 80.6694214876033\n"
     ]
    }
   ],
   "source": [
    "best_model_path = 'best_model.pth'\n",
    "best_model = SentimentTransformer().to(device)\n",
    "best_model.load_state_dict(torch.load(best_model_path, map_location=device))\n",
    "\n",
    "best_model.eval()\n",
    "test_accuracy = 0\n",
    "total = 0\n",
    "true_labels = []\n",
    "predictions = []\n",
    "num_classes = 3\n",
    "\n",
    "with torch.no_grad():\n",
    "    for i, (input_ids_batch, attention_mask_batch, labels) in enumerate(test_loader):\n",
    "        input_ids_batch = input_ids_batch.to(device)\n",
    "        attention_mask_batch = attention_mask_batch.to(device)\n",
    "        labels = labels.to(device)\n",
    "\n",
    "        # Get the raw class scores\n",
    "        class_logits = model(input_ids_batch, attention_mask_batch)\n",
    "        predicted = torch.argmax(class_logits, dim=1)\n",
    "        \n",
    "        # Store predictions and true labels\n",
    "        true_labels.extend(labels.cpu().numpy())\n",
    "        predictions.extend(predicted.cpu().numpy())\n",
    "\n",
    "        # update total accuracy\n",
    "        total += labels.size(0)\n",
    "        test_accuracy += (predicted == labels).sum().item()\n",
    "\n",
    "        if i % 20 == 0:\n",
    "            curr_accuracy = 100 * test_accuracy / total\n",
    "            print(f\"Batch [{i}], current accuracy = {curr_accuracy}\")\n"
   ]
  },
  {
   "cell_type": "code",
   "execution_count": 274,
   "metadata": {},
   "outputs": [
    {
     "name": "stdout",
     "output_type": "stream",
     "text": [
      "Test accuracy: 80.80114449213161\n",
      "Precision: 0.7261571610463617\n",
      "Recall: 0.8080114449213162\n",
      "F1 Score: 0.7649006595697603\n",
      "AUC: 0.7107008757353391\n"
     ]
    },
    {
     "name": "stderr",
     "output_type": "stream",
     "text": [
      "/Users/dylannguyen/anaconda3/lib/python3.11/site-packages/sklearn/metrics/_classification.py:1469: UndefinedMetricWarning: Precision is ill-defined and being set to 0.0 in labels with no predicted samples. Use `zero_division` parameter to control this behavior.\n",
      "  _warn_prf(average, modifier, msg_start, len(result))\n"
     ]
    }
   ],
   "source": [
    "\n",
    "# Binarize the labels for multiclass ROC AUC\n",
    "true_labels_binary = label_binarize(true_labels, classes=range(num_classes))\n",
    "\n",
    "# calculate f1 score, accuracy, recall, precision, AUC\n",
    "test_accuracy = test_accuracy / total * 100\n",
    "precision = precision_score(true_labels, predictions, average='weighted')\n",
    "recall = recall_score(true_labels, predictions, average='weighted')\n",
    "f1 = f1_score(true_labels, predictions, average='weighted')\n",
    "roc_auc = roc_auc_score(true_labels_binary, label_binarize(predictions, classes=range(num_classes)), multi_class='ovr')\n",
    "\n",
    "print(f\"Test accuracy: {test_accuracy}\")\n",
    "print(f\"Precision: {precision}\")\n",
    "print(f\"Recall: {recall}\")\n",
    "print(f\"F1 Score: {f1}\")\n",
    "print(f\"AUC: {roc_auc}\")"
   ]
  },
  {
   "cell_type": "markdown",
   "metadata": {},
   "source": [
    "## Analysis"
   ]
  },
  {
   "cell_type": "markdown",
   "metadata": {},
   "source": [
    "Overall, I received very decent results. Many training epochs were not needed due to the trained parameters of BERT mini. However, this model is very robust and can perform much better with a lot more hyperparameter tuning. First, hyperparameters such as batch size, learning rate, and epochs can be further experimented and optimized to ensure optimal convergence. Next, the experimentation of more encoder and attention layers can even better contextual representations. It was not feaasible to tune this layers as BERT is computationally expensive which means that I could not explore with other BERT variations with more layers. The additional encoder and multi-head layers can further learn the contexts and semantics around each piece of text, ultimately resulting in better representations of the context. Regardless, this model did perform well given the computational hardships and complexity."
   ]
  }
 ],
 "metadata": {
  "kernelspec": {
   "display_name": "Python 3",
   "language": "python",
   "name": "python3"
  },
  "language_info": {
   "codemirror_mode": {
    "name": "ipython",
    "version": 3
   },
   "file_extension": ".py",
   "mimetype": "text/x-python",
   "name": "python",
   "nbconvert_exporter": "python",
   "pygments_lexer": "ipython3",
   "version": "3.11.4"
  }
 },
 "nbformat": 4,
 "nbformat_minor": 2
}
